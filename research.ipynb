{
  "nbformat": 4,
  "nbformat_minor": 0,
  "metadata": {
    "colab": {
      "provenance": [],
      "gpuType": "T4",
      "authorship_tag": "ABX9TyOGUTDuAJTg/s1QOTAN0lOx"
    },
    "kernelspec": {
      "name": "python3",
      "display_name": "Python 3"
    },
    "language_info": {
      "name": "python"
    },
    "accelerator": "GPU"
  },
  "cells": [
    {
      "cell_type": "code",
      "execution_count": 1,
      "metadata": {
        "id": "uZkJ150RKUFt"
      },
      "outputs": [],
      "source": [
        "import pandas as pd\n",
        "\n",
        "df=pd.read_json('https://gist.githubusercontent.com/farhaan-settyl/ecf9c1e7ab7374f18e4400b7a3d2a161/raw/f94652f217eeca83e36dab9d08727caf79ebdecf/dataset.json')"
      ]
    },
    {
      "cell_type": "code",
      "source": [
        "df.head()"
      ],
      "metadata": {
        "colab": {
          "base_uri": "https://localhost:8080/",
          "height": 206
        },
        "id": "_7aCT4S0Kb29",
        "outputId": "b4364444-5b06-4de8-99f1-8b953f549138"
      },
      "execution_count": 2,
      "outputs": [
        {
          "output_type": "execute_result",
          "data": {
            "text/plain": [
              "                                      externalStatus    internalStatus\n",
              "0                                           PORT OUT          Port Out\n",
              "1                                        TERMINAL IN  Inbound Terminal\n",
              "2                                            PORT IN           Port In\n",
              "3  Vessel departure from first POL (Vessel name :...         Departure\n",
              "4  Vessel arrival at final POD (Vessel name : TIA...           Arrival"
            ],
            "text/html": [
              "\n",
              "  <div id=\"df-75e96684-9ebe-4e5e-b6e1-bf22976bde36\" class=\"colab-df-container\">\n",
              "    <div>\n",
              "<style scoped>\n",
              "    .dataframe tbody tr th:only-of-type {\n",
              "        vertical-align: middle;\n",
              "    }\n",
              "\n",
              "    .dataframe tbody tr th {\n",
              "        vertical-align: top;\n",
              "    }\n",
              "\n",
              "    .dataframe thead th {\n",
              "        text-align: right;\n",
              "    }\n",
              "</style>\n",
              "<table border=\"1\" class=\"dataframe\">\n",
              "  <thead>\n",
              "    <tr style=\"text-align: right;\">\n",
              "      <th></th>\n",
              "      <th>externalStatus</th>\n",
              "      <th>internalStatus</th>\n",
              "    </tr>\n",
              "  </thead>\n",
              "  <tbody>\n",
              "    <tr>\n",
              "      <th>0</th>\n",
              "      <td>PORT OUT</td>\n",
              "      <td>Port Out</td>\n",
              "    </tr>\n",
              "    <tr>\n",
              "      <th>1</th>\n",
              "      <td>TERMINAL IN</td>\n",
              "      <td>Inbound Terminal</td>\n",
              "    </tr>\n",
              "    <tr>\n",
              "      <th>2</th>\n",
              "      <td>PORT IN</td>\n",
              "      <td>Port In</td>\n",
              "    </tr>\n",
              "    <tr>\n",
              "      <th>3</th>\n",
              "      <td>Vessel departure from first POL (Vessel name :...</td>\n",
              "      <td>Departure</td>\n",
              "    </tr>\n",
              "    <tr>\n",
              "      <th>4</th>\n",
              "      <td>Vessel arrival at final POD (Vessel name : TIA...</td>\n",
              "      <td>Arrival</td>\n",
              "    </tr>\n",
              "  </tbody>\n",
              "</table>\n",
              "</div>\n",
              "    <div class=\"colab-df-buttons\">\n",
              "\n",
              "  <div class=\"colab-df-container\">\n",
              "    <button class=\"colab-df-convert\" onclick=\"convertToInteractive('df-75e96684-9ebe-4e5e-b6e1-bf22976bde36')\"\n",
              "            title=\"Convert this dataframe to an interactive table.\"\n",
              "            style=\"display:none;\">\n",
              "\n",
              "  <svg xmlns=\"http://www.w3.org/2000/svg\" height=\"24px\" viewBox=\"0 -960 960 960\">\n",
              "    <path d=\"M120-120v-720h720v720H120Zm60-500h600v-160H180v160Zm220 220h160v-160H400v160Zm0 220h160v-160H400v160ZM180-400h160v-160H180v160Zm440 0h160v-160H620v160ZM180-180h160v-160H180v160Zm440 0h160v-160H620v160Z\"/>\n",
              "  </svg>\n",
              "    </button>\n",
              "\n",
              "  <style>\n",
              "    .colab-df-container {\n",
              "      display:flex;\n",
              "      gap: 12px;\n",
              "    }\n",
              "\n",
              "    .colab-df-convert {\n",
              "      background-color: #E8F0FE;\n",
              "      border: none;\n",
              "      border-radius: 50%;\n",
              "      cursor: pointer;\n",
              "      display: none;\n",
              "      fill: #1967D2;\n",
              "      height: 32px;\n",
              "      padding: 0 0 0 0;\n",
              "      width: 32px;\n",
              "    }\n",
              "\n",
              "    .colab-df-convert:hover {\n",
              "      background-color: #E2EBFA;\n",
              "      box-shadow: 0px 1px 2px rgba(60, 64, 67, 0.3), 0px 1px 3px 1px rgba(60, 64, 67, 0.15);\n",
              "      fill: #174EA6;\n",
              "    }\n",
              "\n",
              "    .colab-df-buttons div {\n",
              "      margin-bottom: 4px;\n",
              "    }\n",
              "\n",
              "    [theme=dark] .colab-df-convert {\n",
              "      background-color: #3B4455;\n",
              "      fill: #D2E3FC;\n",
              "    }\n",
              "\n",
              "    [theme=dark] .colab-df-convert:hover {\n",
              "      background-color: #434B5C;\n",
              "      box-shadow: 0px 1px 3px 1px rgba(0, 0, 0, 0.15);\n",
              "      filter: drop-shadow(0px 1px 2px rgba(0, 0, 0, 0.3));\n",
              "      fill: #FFFFFF;\n",
              "    }\n",
              "  </style>\n",
              "\n",
              "    <script>\n",
              "      const buttonEl =\n",
              "        document.querySelector('#df-75e96684-9ebe-4e5e-b6e1-bf22976bde36 button.colab-df-convert');\n",
              "      buttonEl.style.display =\n",
              "        google.colab.kernel.accessAllowed ? 'block' : 'none';\n",
              "\n",
              "      async function convertToInteractive(key) {\n",
              "        const element = document.querySelector('#df-75e96684-9ebe-4e5e-b6e1-bf22976bde36');\n",
              "        const dataTable =\n",
              "          await google.colab.kernel.invokeFunction('convertToInteractive',\n",
              "                                                    [key], {});\n",
              "        if (!dataTable) return;\n",
              "\n",
              "        const docLinkHtml = 'Like what you see? Visit the ' +\n",
              "          '<a target=\"_blank\" href=https://colab.research.google.com/notebooks/data_table.ipynb>data table notebook</a>'\n",
              "          + ' to learn more about interactive tables.';\n",
              "        element.innerHTML = '';\n",
              "        dataTable['output_type'] = 'display_data';\n",
              "        await google.colab.output.renderOutput(dataTable, element);\n",
              "        const docLink = document.createElement('div');\n",
              "        docLink.innerHTML = docLinkHtml;\n",
              "        element.appendChild(docLink);\n",
              "      }\n",
              "    </script>\n",
              "  </div>\n",
              "\n",
              "\n",
              "<div id=\"df-2526edd2-4bb6-4169-a5af-09d9f3d7a86a\">\n",
              "  <button class=\"colab-df-quickchart\" onclick=\"quickchart('df-2526edd2-4bb6-4169-a5af-09d9f3d7a86a')\"\n",
              "            title=\"Suggest charts\"\n",
              "            style=\"display:none;\">\n",
              "\n",
              "<svg xmlns=\"http://www.w3.org/2000/svg\" height=\"24px\"viewBox=\"0 0 24 24\"\n",
              "     width=\"24px\">\n",
              "    <g>\n",
              "        <path d=\"M19 3H5c-1.1 0-2 .9-2 2v14c0 1.1.9 2 2 2h14c1.1 0 2-.9 2-2V5c0-1.1-.9-2-2-2zM9 17H7v-7h2v7zm4 0h-2V7h2v10zm4 0h-2v-4h2v4z\"/>\n",
              "    </g>\n",
              "</svg>\n",
              "  </button>\n",
              "\n",
              "<style>\n",
              "  .colab-df-quickchart {\n",
              "      --bg-color: #E8F0FE;\n",
              "      --fill-color: #1967D2;\n",
              "      --hover-bg-color: #E2EBFA;\n",
              "      --hover-fill-color: #174EA6;\n",
              "      --disabled-fill-color: #AAA;\n",
              "      --disabled-bg-color: #DDD;\n",
              "  }\n",
              "\n",
              "  [theme=dark] .colab-df-quickchart {\n",
              "      --bg-color: #3B4455;\n",
              "      --fill-color: #D2E3FC;\n",
              "      --hover-bg-color: #434B5C;\n",
              "      --hover-fill-color: #FFFFFF;\n",
              "      --disabled-bg-color: #3B4455;\n",
              "      --disabled-fill-color: #666;\n",
              "  }\n",
              "\n",
              "  .colab-df-quickchart {\n",
              "    background-color: var(--bg-color);\n",
              "    border: none;\n",
              "    border-radius: 50%;\n",
              "    cursor: pointer;\n",
              "    display: none;\n",
              "    fill: var(--fill-color);\n",
              "    height: 32px;\n",
              "    padding: 0;\n",
              "    width: 32px;\n",
              "  }\n",
              "\n",
              "  .colab-df-quickchart:hover {\n",
              "    background-color: var(--hover-bg-color);\n",
              "    box-shadow: 0 1px 2px rgba(60, 64, 67, 0.3), 0 1px 3px 1px rgba(60, 64, 67, 0.15);\n",
              "    fill: var(--button-hover-fill-color);\n",
              "  }\n",
              "\n",
              "  .colab-df-quickchart-complete:disabled,\n",
              "  .colab-df-quickchart-complete:disabled:hover {\n",
              "    background-color: var(--disabled-bg-color);\n",
              "    fill: var(--disabled-fill-color);\n",
              "    box-shadow: none;\n",
              "  }\n",
              "\n",
              "  .colab-df-spinner {\n",
              "    border: 2px solid var(--fill-color);\n",
              "    border-color: transparent;\n",
              "    border-bottom-color: var(--fill-color);\n",
              "    animation:\n",
              "      spin 1s steps(1) infinite;\n",
              "  }\n",
              "\n",
              "  @keyframes spin {\n",
              "    0% {\n",
              "      border-color: transparent;\n",
              "      border-bottom-color: var(--fill-color);\n",
              "      border-left-color: var(--fill-color);\n",
              "    }\n",
              "    20% {\n",
              "      border-color: transparent;\n",
              "      border-left-color: var(--fill-color);\n",
              "      border-top-color: var(--fill-color);\n",
              "    }\n",
              "    30% {\n",
              "      border-color: transparent;\n",
              "      border-left-color: var(--fill-color);\n",
              "      border-top-color: var(--fill-color);\n",
              "      border-right-color: var(--fill-color);\n",
              "    }\n",
              "    40% {\n",
              "      border-color: transparent;\n",
              "      border-right-color: var(--fill-color);\n",
              "      border-top-color: var(--fill-color);\n",
              "    }\n",
              "    60% {\n",
              "      border-color: transparent;\n",
              "      border-right-color: var(--fill-color);\n",
              "    }\n",
              "    80% {\n",
              "      border-color: transparent;\n",
              "      border-right-color: var(--fill-color);\n",
              "      border-bottom-color: var(--fill-color);\n",
              "    }\n",
              "    90% {\n",
              "      border-color: transparent;\n",
              "      border-bottom-color: var(--fill-color);\n",
              "    }\n",
              "  }\n",
              "</style>\n",
              "\n",
              "  <script>\n",
              "    async function quickchart(key) {\n",
              "      const quickchartButtonEl =\n",
              "        document.querySelector('#' + key + ' button');\n",
              "      quickchartButtonEl.disabled = true;  // To prevent multiple clicks.\n",
              "      quickchartButtonEl.classList.add('colab-df-spinner');\n",
              "      try {\n",
              "        const charts = await google.colab.kernel.invokeFunction(\n",
              "            'suggestCharts', [key], {});\n",
              "      } catch (error) {\n",
              "        console.error('Error during call to suggestCharts:', error);\n",
              "      }\n",
              "      quickchartButtonEl.classList.remove('colab-df-spinner');\n",
              "      quickchartButtonEl.classList.add('colab-df-quickchart-complete');\n",
              "    }\n",
              "    (() => {\n",
              "      let quickchartButtonEl =\n",
              "        document.querySelector('#df-2526edd2-4bb6-4169-a5af-09d9f3d7a86a button');\n",
              "      quickchartButtonEl.style.display =\n",
              "        google.colab.kernel.accessAllowed ? 'block' : 'none';\n",
              "    })();\n",
              "  </script>\n",
              "</div>\n",
              "\n",
              "    </div>\n",
              "  </div>\n"
            ],
            "application/vnd.google.colaboratory.intrinsic+json": {
              "type": "dataframe",
              "variable_name": "df",
              "summary": "{\n  \"name\": \"df\",\n  \"rows\": 1222,\n  \"fields\": [\n    {\n      \"column\": \"externalStatus\",\n      \"properties\": {\n        \"dtype\": \"category\",\n        \"num_unique_values\": 108,\n        \"samples\": [\n          \"Import Loaded on Rail\",\n          \"Load on MSC SVEVA / 248E\",\n          \"Vessel arrival at final POD (Vessel name : TIAN FU HE)\"\n        ],\n        \"semantic_type\": \"\",\n        \"description\": \"\"\n      }\n    },\n    {\n      \"column\": \"internalStatus\",\n      \"properties\": {\n        \"dtype\": \"category\",\n        \"num_unique_values\": 15,\n        \"samples\": [\n          \"Off Rail\",\n          \"In-transit\",\n          \"Port Out\"\n        ],\n        \"semantic_type\": \"\",\n        \"description\": \"\"\n      }\n    }\n  ]\n}"
            }
          },
          "metadata": {},
          "execution_count": 2
        }
      ]
    },
    {
      "cell_type": "code",
      "source": [
        "df['internalStatus'].value_counts()"
      ],
      "metadata": {
        "colab": {
          "base_uri": "https://localhost:8080/"
        },
        "id": "hDhwEPWoSbLD",
        "outputId": "b2c123d4-357a-4c50-bf48-059a19364b3c"
      },
      "execution_count": 3,
      "outputs": [
        {
          "output_type": "execute_result",
          "data": {
            "text/plain": [
              "internalStatus\n",
              "Loaded on Vessel            331\n",
              "Departure                   287\n",
              "Gate Out                    146\n",
              "Gate In                     143\n",
              "Arrival                      62\n",
              "Empty Return                 47\n",
              "Empty Container Released     47\n",
              "Unloaded on Vessel           37\n",
              "On Rail                      25\n",
              "Off Rail                     25\n",
              "Outbound Terminal            24\n",
              "Port Out                     15\n",
              "Port In                      14\n",
              "In-transit                   10\n",
              "Inbound Terminal              9\n",
              "Name: count, dtype: int64"
            ]
          },
          "metadata": {},
          "execution_count": 3
        }
      ]
    },
    {
      "cell_type": "code",
      "source": [
        "from sklearn.preprocessing import LabelEncoder\n",
        "label_encoder = LabelEncoder()\n",
        "df['Output'] = label_encoder.fit_transform(df['internalStatus'])\n"
      ],
      "metadata": {
        "id": "-znRAxGoSjmT"
      },
      "execution_count": 4,
      "outputs": []
    },
    {
      "cell_type": "code",
      "source": [
        "!pip install tensorflow keras"
      ],
      "metadata": {
        "colab": {
          "base_uri": "https://localhost:8080/"
        },
        "id": "9qi9UTYPS2UE",
        "outputId": "8ada8de0-5f72-4709-d104-763660213ec6"
      },
      "execution_count": 5,
      "outputs": [
        {
          "output_type": "stream",
          "name": "stdout",
          "text": [
            "Requirement already satisfied: tensorflow in /usr/local/lib/python3.10/dist-packages (2.15.0)\n",
            "Requirement already satisfied: keras in /usr/local/lib/python3.10/dist-packages (2.15.0)\n",
            "Requirement already satisfied: absl-py>=1.0.0 in /usr/local/lib/python3.10/dist-packages (from tensorflow) (1.4.0)\n",
            "Requirement already satisfied: astunparse>=1.6.0 in /usr/local/lib/python3.10/dist-packages (from tensorflow) (1.6.3)\n",
            "Requirement already satisfied: flatbuffers>=23.5.26 in /usr/local/lib/python3.10/dist-packages (from tensorflow) (24.3.25)\n",
            "Requirement already satisfied: gast!=0.5.0,!=0.5.1,!=0.5.2,>=0.2.1 in /usr/local/lib/python3.10/dist-packages (from tensorflow) (0.5.4)\n",
            "Requirement already satisfied: google-pasta>=0.1.1 in /usr/local/lib/python3.10/dist-packages (from tensorflow) (0.2.0)\n",
            "Requirement already satisfied: h5py>=2.9.0 in /usr/local/lib/python3.10/dist-packages (from tensorflow) (3.9.0)\n",
            "Requirement already satisfied: libclang>=13.0.0 in /usr/local/lib/python3.10/dist-packages (from tensorflow) (18.1.1)\n",
            "Requirement already satisfied: ml-dtypes~=0.2.0 in /usr/local/lib/python3.10/dist-packages (from tensorflow) (0.2.0)\n",
            "Requirement already satisfied: numpy<2.0.0,>=1.23.5 in /usr/local/lib/python3.10/dist-packages (from tensorflow) (1.25.2)\n",
            "Requirement already satisfied: opt-einsum>=2.3.2 in /usr/local/lib/python3.10/dist-packages (from tensorflow) (3.3.0)\n",
            "Requirement already satisfied: packaging in /usr/local/lib/python3.10/dist-packages (from tensorflow) (24.0)\n",
            "Requirement already satisfied: protobuf!=4.21.0,!=4.21.1,!=4.21.2,!=4.21.3,!=4.21.4,!=4.21.5,<5.0.0dev,>=3.20.3 in /usr/local/lib/python3.10/dist-packages (from tensorflow) (3.20.3)\n",
            "Requirement already satisfied: setuptools in /usr/local/lib/python3.10/dist-packages (from tensorflow) (67.7.2)\n",
            "Requirement already satisfied: six>=1.12.0 in /usr/local/lib/python3.10/dist-packages (from tensorflow) (1.16.0)\n",
            "Requirement already satisfied: termcolor>=1.1.0 in /usr/local/lib/python3.10/dist-packages (from tensorflow) (2.4.0)\n",
            "Requirement already satisfied: typing-extensions>=3.6.6 in /usr/local/lib/python3.10/dist-packages (from tensorflow) (4.10.0)\n",
            "Requirement already satisfied: wrapt<1.15,>=1.11.0 in /usr/local/lib/python3.10/dist-packages (from tensorflow) (1.14.1)\n",
            "Requirement already satisfied: tensorflow-io-gcs-filesystem>=0.23.1 in /usr/local/lib/python3.10/dist-packages (from tensorflow) (0.36.0)\n",
            "Requirement already satisfied: grpcio<2.0,>=1.24.3 in /usr/local/lib/python3.10/dist-packages (from tensorflow) (1.62.1)\n",
            "Requirement already satisfied: tensorboard<2.16,>=2.15 in /usr/local/lib/python3.10/dist-packages (from tensorflow) (2.15.2)\n",
            "Requirement already satisfied: tensorflow-estimator<2.16,>=2.15.0 in /usr/local/lib/python3.10/dist-packages (from tensorflow) (2.15.0)\n",
            "Requirement already satisfied: wheel<1.0,>=0.23.0 in /usr/local/lib/python3.10/dist-packages (from astunparse>=1.6.0->tensorflow) (0.43.0)\n",
            "Requirement already satisfied: google-auth<3,>=1.6.3 in /usr/local/lib/python3.10/dist-packages (from tensorboard<2.16,>=2.15->tensorflow) (2.27.0)\n",
            "Requirement already satisfied: google-auth-oauthlib<2,>=0.5 in /usr/local/lib/python3.10/dist-packages (from tensorboard<2.16,>=2.15->tensorflow) (1.2.0)\n",
            "Requirement already satisfied: markdown>=2.6.8 in /usr/local/lib/python3.10/dist-packages (from tensorboard<2.16,>=2.15->tensorflow) (3.6)\n",
            "Requirement already satisfied: requests<3,>=2.21.0 in /usr/local/lib/python3.10/dist-packages (from tensorboard<2.16,>=2.15->tensorflow) (2.31.0)\n",
            "Requirement already satisfied: tensorboard-data-server<0.8.0,>=0.7.0 in /usr/local/lib/python3.10/dist-packages (from tensorboard<2.16,>=2.15->tensorflow) (0.7.2)\n",
            "Requirement already satisfied: werkzeug>=1.0.1 in /usr/local/lib/python3.10/dist-packages (from tensorboard<2.16,>=2.15->tensorflow) (3.0.2)\n",
            "Requirement already satisfied: cachetools<6.0,>=2.0.0 in /usr/local/lib/python3.10/dist-packages (from google-auth<3,>=1.6.3->tensorboard<2.16,>=2.15->tensorflow) (5.3.3)\n",
            "Requirement already satisfied: pyasn1-modules>=0.2.1 in /usr/local/lib/python3.10/dist-packages (from google-auth<3,>=1.6.3->tensorboard<2.16,>=2.15->tensorflow) (0.4.0)\n",
            "Requirement already satisfied: rsa<5,>=3.1.4 in /usr/local/lib/python3.10/dist-packages (from google-auth<3,>=1.6.3->tensorboard<2.16,>=2.15->tensorflow) (4.9)\n",
            "Requirement already satisfied: requests-oauthlib>=0.7.0 in /usr/local/lib/python3.10/dist-packages (from google-auth-oauthlib<2,>=0.5->tensorboard<2.16,>=2.15->tensorflow) (1.3.1)\n",
            "Requirement already satisfied: charset-normalizer<4,>=2 in /usr/local/lib/python3.10/dist-packages (from requests<3,>=2.21.0->tensorboard<2.16,>=2.15->tensorflow) (3.3.2)\n",
            "Requirement already satisfied: idna<4,>=2.5 in /usr/local/lib/python3.10/dist-packages (from requests<3,>=2.21.0->tensorboard<2.16,>=2.15->tensorflow) (3.6)\n",
            "Requirement already satisfied: urllib3<3,>=1.21.1 in /usr/local/lib/python3.10/dist-packages (from requests<3,>=2.21.0->tensorboard<2.16,>=2.15->tensorflow) (2.0.7)\n",
            "Requirement already satisfied: certifi>=2017.4.17 in /usr/local/lib/python3.10/dist-packages (from requests<3,>=2.21.0->tensorboard<2.16,>=2.15->tensorflow) (2024.2.2)\n",
            "Requirement already satisfied: MarkupSafe>=2.1.1 in /usr/local/lib/python3.10/dist-packages (from werkzeug>=1.0.1->tensorboard<2.16,>=2.15->tensorflow) (2.1.5)\n",
            "Requirement already satisfied: pyasn1<0.7.0,>=0.4.6 in /usr/local/lib/python3.10/dist-packages (from pyasn1-modules>=0.2.1->google-auth<3,>=1.6.3->tensorboard<2.16,>=2.15->tensorflow) (0.6.0)\n",
            "Requirement already satisfied: oauthlib>=3.0.0 in /usr/local/lib/python3.10/dist-packages (from requests-oauthlib>=0.7.0->google-auth-oauthlib<2,>=0.5->tensorboard<2.16,>=2.15->tensorflow) (3.2.2)\n"
          ]
        }
      ]
    },
    {
      "cell_type": "code",
      "source": [
        "from tensorflow.keras.preprocessing.text import Tokenizer\n",
        "from tensorflow.keras.preprocessing.sequence import pad_sequences\n",
        "\n",
        "\n",
        "\n",
        "# Tokenize and pad text data\n",
        "tokenizer = Tokenizer()\n",
        "tokenizer.fit_on_texts(df['externalStatus'])\n",
        "X = tokenizer.texts_to_sequences(df['externalStatus'])\n",
        "X = pad_sequences(X, maxlen=130)"
      ],
      "metadata": {
        "id": "jRIEXTcNSmPc"
      },
      "execution_count": 6,
      "outputs": []
    },
    {
      "cell_type": "code",
      "source": [],
      "metadata": {
        "id": "LzRXdgQgaGZm"
      },
      "execution_count": 6,
      "outputs": []
    },
    {
      "cell_type": "code",
      "source": [
        "from sklearn.model_selection import train_test_split\n",
        "X_train, X_test, y_train, y_test = train_test_split(X, df['Output'], test_size=0.2, random_state=42)\n"
      ],
      "metadata": {
        "id": "QHWUB9SrS05o"
      },
      "execution_count": 7,
      "outputs": []
    },
    {
      "cell_type": "code",
      "source": [
        "import tensorflow as tf\n",
        "from tensorflow.keras.models import Sequential\n",
        "from tensorflow.keras.layers import Embedding, LSTM, Dense,Dropout\n",
        "from tensorflow.keras.callbacks import EarlyStopping\n",
        "\n",
        "# Define EarlyStopping callback\n",
        "early_stopping = EarlyStopping(monitor='val_loss', patience=3, restore_best_weights=True)\n",
        "\n",
        "# Define the model architecture\n",
        "model = Sequential()\n",
        "model.add(Embedding(input_dim=500, output_dim=130, input_length=130))\n",
        "model.add(LSTM(256,return_sequences=True))\n",
        "model.add(Dropout(.2))\n",
        "model.add(LSTM(128,return_sequences=True))\n",
        "\n",
        "# model.add(LSTM(64,return_sequences=True))\n",
        "\n",
        "model.add(LSTM(32))\n",
        "\n",
        "model.add(Dense(15, activation='softmax'))  # Adjust NUM_CLASSES based on the number of unique labels\n",
        "\n",
        "# Compile the model\n",
        "model.compile(loss='sparse_categorical_crossentropy', optimizer='adam', metrics=['accuracy'])\n",
        "\n",
        "# Train the model\n",
        "history = model.fit(X_train, y_train, batch_size=8, epochs=40, validation_data=(X_test, y_test),callbacks=[early_stopping])\n",
        "\n",
        "# Evaluate the model\n",
        "loss, accuracy = model.evaluate(X_test, y_test)\n",
        "print(\"Test Accuracy:\", accuracy)"
      ],
      "metadata": {
        "colab": {
          "base_uri": "https://localhost:8080/"
        },
        "id": "55yfk8poTMAQ",
        "outputId": "86961d22-3495-4a53-c412-f581f8301550"
      },
      "execution_count": 15,
      "outputs": [
        {
          "output_type": "stream",
          "name": "stdout",
          "text": [
            "Epoch 1/40\n",
            "123/123 [==============================] - 12s 58ms/step - loss: 2.1592 - accuracy: 0.2784 - val_loss: 2.2524 - val_accuracy: 0.2449\n",
            "Epoch 2/40\n",
            "123/123 [==============================] - 3s 20ms/step - loss: 1.7981 - accuracy: 0.4411 - val_loss: 1.5967 - val_accuracy: 0.5673\n",
            "Epoch 3/40\n",
            "123/123 [==============================] - 3s 26ms/step - loss: 1.0370 - accuracy: 0.7584 - val_loss: 0.9656 - val_accuracy: 0.7592\n",
            "Epoch 4/40\n",
            "123/123 [==============================] - 3s 22ms/step - loss: 0.6969 - accuracy: 0.8311 - val_loss: 0.8582 - val_accuracy: 0.7959\n",
            "Epoch 5/40\n",
            "123/123 [==============================] - 2s 20ms/step - loss: 0.5546 - accuracy: 0.8802 - val_loss: 0.6087 - val_accuracy: 0.8612\n",
            "Epoch 6/40\n",
            "123/123 [==============================] - 2s 19ms/step - loss: 0.3965 - accuracy: 0.9191 - val_loss: 0.4589 - val_accuracy: 0.8980\n",
            "Epoch 7/40\n",
            "123/123 [==============================] - 2s 20ms/step - loss: 0.3031 - accuracy: 0.9376 - val_loss: 0.3614 - val_accuracy: 0.9184\n",
            "Epoch 8/40\n",
            "123/123 [==============================] - 3s 26ms/step - loss: 0.2398 - accuracy: 0.9570 - val_loss: 0.2928 - val_accuracy: 0.9633\n",
            "Epoch 9/40\n",
            "123/123 [==============================] - 3s 21ms/step - loss: 0.1971 - accuracy: 0.9632 - val_loss: 0.3042 - val_accuracy: 0.9184\n",
            "Epoch 10/40\n",
            "123/123 [==============================] - 2s 19ms/step - loss: 0.2025 - accuracy: 0.9662 - val_loss: 0.2209 - val_accuracy: 0.9551\n",
            "Epoch 11/40\n",
            "123/123 [==============================] - 2s 19ms/step - loss: 0.1412 - accuracy: 0.9785 - val_loss: 0.1966 - val_accuracy: 0.9755\n",
            "Epoch 12/40\n",
            "123/123 [==============================] - 2s 20ms/step - loss: 0.1185 - accuracy: 0.9826 - val_loss: 0.1540 - val_accuracy: 0.9796\n",
            "Epoch 13/40\n",
            "123/123 [==============================] - 3s 24ms/step - loss: 0.0942 - accuracy: 0.9898 - val_loss: 0.1306 - val_accuracy: 0.9878\n",
            "Epoch 14/40\n",
            "123/123 [==============================] - 2s 20ms/step - loss: 0.0736 - accuracy: 0.9939 - val_loss: 0.1137 - val_accuracy: 0.9796\n",
            "Epoch 15/40\n",
            "123/123 [==============================] - 2s 20ms/step - loss: 0.0611 - accuracy: 0.9969 - val_loss: 0.0969 - val_accuracy: 0.9918\n",
            "Epoch 16/40\n",
            "123/123 [==============================] - 2s 20ms/step - loss: 0.0519 - accuracy: 0.9990 - val_loss: 0.0858 - val_accuracy: 0.9918\n",
            "Epoch 17/40\n",
            "123/123 [==============================] - 3s 22ms/step - loss: 0.0449 - accuracy: 0.9990 - val_loss: 0.0783 - val_accuracy: 0.9918\n",
            "Epoch 18/40\n",
            "123/123 [==============================] - 3s 22ms/step - loss: 0.0380 - accuracy: 1.0000 - val_loss: 0.0677 - val_accuracy: 0.9918\n",
            "Epoch 19/40\n",
            "123/123 [==============================] - 2s 18ms/step - loss: 0.0325 - accuracy: 1.0000 - val_loss: 0.0609 - val_accuracy: 0.9918\n",
            "Epoch 20/40\n",
            "123/123 [==============================] - 2s 19ms/step - loss: 0.0282 - accuracy: 1.0000 - val_loss: 0.0548 - val_accuracy: 0.9918\n",
            "Epoch 21/40\n",
            "123/123 [==============================] - 2s 20ms/step - loss: 0.0248 - accuracy: 1.0000 - val_loss: 0.0510 - val_accuracy: 0.9918\n",
            "Epoch 22/40\n",
            "123/123 [==============================] - 3s 23ms/step - loss: 0.0211 - accuracy: 1.0000 - val_loss: 0.0471 - val_accuracy: 0.9918\n",
            "Epoch 23/40\n",
            "123/123 [==============================] - 3s 21ms/step - loss: 0.0185 - accuracy: 1.0000 - val_loss: 0.0438 - val_accuracy: 0.9918\n",
            "Epoch 24/40\n",
            "123/123 [==============================] - 2s 19ms/step - loss: 0.0164 - accuracy: 1.0000 - val_loss: 0.0419 - val_accuracy: 0.9918\n",
            "Epoch 25/40\n",
            "123/123 [==============================] - 2s 19ms/step - loss: 0.0148 - accuracy: 1.0000 - val_loss: 0.0405 - val_accuracy: 0.9918\n",
            "Epoch 26/40\n",
            "123/123 [==============================] - 2s 20ms/step - loss: 0.0133 - accuracy: 1.0000 - val_loss: 0.0373 - val_accuracy: 0.9959\n",
            "Epoch 27/40\n",
            "123/123 [==============================] - 3s 24ms/step - loss: 0.0119 - accuracy: 1.0000 - val_loss: 0.0360 - val_accuracy: 0.9918\n",
            "Epoch 28/40\n",
            "123/123 [==============================] - 2s 19ms/step - loss: 0.0108 - accuracy: 1.0000 - val_loss: 0.0345 - val_accuracy: 0.9959\n",
            "Epoch 29/40\n",
            "123/123 [==============================] - 2s 19ms/step - loss: 0.0098 - accuracy: 1.0000 - val_loss: 0.0337 - val_accuracy: 0.9959\n",
            "Epoch 30/40\n",
            "123/123 [==============================] - 2s 19ms/step - loss: 0.0089 - accuracy: 1.0000 - val_loss: 0.0330 - val_accuracy: 0.9959\n",
            "Epoch 31/40\n",
            "123/123 [==============================] - 2s 19ms/step - loss: 0.0081 - accuracy: 1.0000 - val_loss: 0.0329 - val_accuracy: 0.9959\n",
            "Epoch 32/40\n",
            "123/123 [==============================] - 3s 24ms/step - loss: 0.0075 - accuracy: 1.0000 - val_loss: 0.0322 - val_accuracy: 0.9959\n",
            "Epoch 33/40\n",
            "123/123 [==============================] - 2s 20ms/step - loss: 0.0069 - accuracy: 1.0000 - val_loss: 0.0326 - val_accuracy: 0.9918\n",
            "Epoch 34/40\n",
            "123/123 [==============================] - 2s 19ms/step - loss: 0.0063 - accuracy: 1.0000 - val_loss: 0.0317 - val_accuracy: 0.9918\n",
            "Epoch 35/40\n",
            "123/123 [==============================] - 2s 19ms/step - loss: 0.0058 - accuracy: 1.0000 - val_loss: 0.0316 - val_accuracy: 0.9918\n",
            "Epoch 36/40\n",
            "123/123 [==============================] - 2s 19ms/step - loss: 0.0053 - accuracy: 1.0000 - val_loss: 0.0327 - val_accuracy: 0.9918\n",
            "Epoch 37/40\n",
            "123/123 [==============================] - 3s 23ms/step - loss: 0.0049 - accuracy: 1.0000 - val_loss: 0.0317 - val_accuracy: 0.9918\n",
            "Epoch 38/40\n",
            "123/123 [==============================] - 2s 20ms/step - loss: 0.0046 - accuracy: 1.0000 - val_loss: 0.0335 - val_accuracy: 0.9918\n",
            "8/8 [==============================] - 0s 9ms/step - loss: 0.0316 - accuracy: 0.9918\n",
            "Test Accuracy: 0.9918367266654968\n"
          ]
        }
      ]
    },
    {
      "cell_type": "code",
      "source": [
        "\n",
        "def predict_internal_status(model, tokenizer, user_input):\n",
        "    # Tokenize the user input\n",
        "    import numpy as np\n",
        "    user_input_sequence = tokenizer.texts_to_sequences([user_input])\n",
        "    # Pad sequences to the same length as training data\n",
        "    user_input_sequence_padded = pad_sequences(user_input_sequence, maxlen=130)\n",
        "\n",
        "    # Make predictions\n",
        "    predictions = model.predict(user_input_sequence_padded)\n",
        "    # Get the predicted class (internal status)\n",
        "    predicted_class = np.argmax(predictions)\n",
        "    predicted_class = label_encoder.inverse_transform([predicted_class])\n",
        "\n",
        "    return predicted_class[0]\n",
        "    # return predicted_class"
      ],
      "metadata": {
        "id": "8hGIvUFCTZRl"
      },
      "execution_count": 16,
      "outputs": []
    },
    {
      "cell_type": "markdown",
      "source": [],
      "metadata": {
        "id": "Ry9Q8zs2sQ5L"
      }
    },
    {
      "cell_type": "code",
      "source": [
        "predict_internal_status(model,tokenizer,'  passed toll plazza')"
      ],
      "metadata": {
        "colab": {
          "base_uri": "https://localhost:8080/",
          "height": 52
        },
        "id": "wG_X7_LlZ9Sr",
        "outputId": "bf548695-5560-4c67-9c12-d990d1aa6e2a"
      },
      "execution_count": 23,
      "outputs": [
        {
          "output_type": "stream",
          "name": "stdout",
          "text": [
            "1/1 [==============================] - 0s 22ms/step\n"
          ]
        },
        {
          "output_type": "execute_result",
          "data": {
            "text/plain": [
              "'In-transit'"
            ],
            "application/vnd.google.colaboratory.intrinsic+json": {
              "type": "string"
            }
          },
          "metadata": {},
          "execution_count": 23
        }
      ]
    },
    {
      "cell_type": "code",
      "source": [
        "import matplotlib.pyplot as plt\n",
        "\n",
        "def plot_loss(history):\n",
        "    plt.plot(history.history['loss'], label='Training Loss')\n",
        "    plt.plot(history.history['val_loss'], label='Validation Loss')\n",
        "    plt.title('Model Loss')\n",
        "    plt.xlabel('Epoch')\n",
        "    plt.ylabel('Loss')\n",
        "    plt.legend()\n",
        "    plt.show()\n",
        "\n",
        "# Assuming `history` is the variable containing the training history of the model\n",
        "plot_loss(history)"
      ],
      "metadata": {
        "colab": {
          "base_uri": "https://localhost:8080/",
          "height": 472
        },
        "id": "Jsb7EhWCavHm",
        "outputId": "0f327659-0e64-4c15-f30e-41d7238474c4"
      },
      "execution_count": 24,
      "outputs": [
        {
          "output_type": "display_data",
          "data": {
            "text/plain": [
              "<Figure size 640x480 with 1 Axes>"
            ],
            "image/png": "[encoded data removed]"
          },
          "metadata": {}
        }
      ]
    },
    {
      "cell_type": "code",
      "source": [
        "def plot_accuracy(history):\n",
        "    plt.plot(history.history['accuracy'], label='Training Loss')\n",
        "    plt.plot(history.history['val_accuracy'], label='Validation Loss')\n",
        "    plt.title('Model Loss')\n",
        "    plt.xlabel('Epoch')\n",
        "    plt.ylabel('Loss')\n",
        "    plt.legend()\n",
        "    plt.show()\n",
        "\n",
        "# Assuming `history` is the variable containing the training history of the model\n",
        "plot_accuracy(history)"
      ],
      "metadata": {
        "colab": {
          "base_uri": "https://localhost:8080/",
          "height": 472
        },
        "id": "_EI7Ko9Ub5Tc",
        "outputId": "f03a50a6-a9ad-47cd-a638-3abe93831363"
      },
      "execution_count": 25,
      "outputs": [
        {
          "output_type": "display_data",
          "data": {
            "text/plain": [
              "<Figure size 640x480 with 1 Axes>"
            ],
            "image/png": "[encoded data removed]"
          },
          "metadata": {}
        }
      ]
    },
    {
      "cell_type": "code",
      "source": [
        "model.save('./model.h5')"
      ],
      "metadata": {
        "colab": {
          "base_uri": "https://localhost:8080/"
        },
        "id": "A80rgmBQsW9F",
        "outputId": "fce99112-7dc0-4a32-c6fc-e56b3c242fe5"
      },
      "execution_count": 27,
      "outputs": [
        {
          "output_type": "stream",
          "name": "stderr",
          "text": [
            "/usr/local/lib/python3.10/dist-packages/keras/src/engine/training.py:3103: UserWarning: You are saving your model as an HDF5 file via `model.save()`. This file format is considered legacy. We recommend using instead the native Keras format, e.g. `model.save('my_model.keras')`.\n",
            "  saving_api.save_model(\n"
          ]
        }
      ]
    },
    {
      "cell_type": "code",
      "source": [
        "import pickle\n",
        "\n",
        "with open('tokenizer.pickle', 'wb') as handle:\n",
        "    pickle.dump(tokenizer, handle, protocol=pickle.HIGHEST_PROTOCOL)\n"
      ],
      "metadata": {
        "id": "a6T8oXsVsgRf"
      },
      "execution_count": 28,
      "outputs": []
    },
    {
      "cell_type": "code",
      "source": [
        "with open('label_encoder.pkl', 'wb') as f:\n",
        "    pickle.dump(label_encoder, f)"
      ],
      "metadata": {
        "id": "PozsFdnOs-ln"
      },
      "execution_count": 30,
      "outputs": []
    },
    {
      "cell_type": "code",
      "source": [],
      "metadata": {
        "id": "iecQOJ5FtPlQ"
      },
      "execution_count": null,
      "outputs": []
    }
  ]
}