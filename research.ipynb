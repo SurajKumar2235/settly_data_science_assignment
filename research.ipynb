{
  "cells": [
    {
      "cell_type": "code",
      "execution_count": 53,
      "metadata": {
        "id": "uZkJ150RKUFt"
      },
      "outputs": [],
      "source": [
        "import pandas as pd\n",
        "\n",
        "df=pd.read_json('https://gist.githubusercontent.com/farhaan-settyl/ecf9c1e7ab7374f18e4400b7a3d2a161/raw/f94652f217eeca83e36dab9d08727caf79ebdecf/dataset.json')"
      ]
    },
    {
      "cell_type": "code",
      "execution_count": 54,
      "metadata": {
        "colab": {
          "base_uri": "https://localhost:8080/",
          "height": 206
        },
        "id": "_7aCT4S0Kb29",
        "outputId": "b4364444-5b06-4de8-99f1-8b953f549138"
      },
      "outputs": [
        {
          "data": {
            "text/html": [
              "<div>\n",
              "<style scoped>\n",
              "    .dataframe tbody tr th:only-of-type {\n",
              "        vertical-align: middle;\n",
              "    }\n",
              "\n",
              "    .dataframe tbody tr th {\n",
              "        vertical-align: top;\n",
              "    }\n",
              "\n",
              "    .dataframe thead th {\n",
              "        text-align: right;\n",
              "    }\n",
              "</style>\n",
              "<table border=\"1\" class=\"dataframe\">\n",
              "  <thead>\n",
              "    <tr style=\"text-align: right;\">\n",
              "      <th></th>\n",
              "      <th>externalStatus</th>\n",
              "      <th>internalStatus</th>\n",
              "    </tr>\n",
              "  </thead>\n",
              "  <tbody>\n",
              "    <tr>\n",
              "      <th>0</th>\n",
              "      <td>PORT OUT</td>\n",
              "      <td>Port Out</td>\n",
              "    </tr>\n",
              "    <tr>\n",
              "      <th>1</th>\n",
              "      <td>TERMINAL IN</td>\n",
              "      <td>Inbound Terminal</td>\n",
              "    </tr>\n",
              "    <tr>\n",
              "      <th>2</th>\n",
              "      <td>PORT IN</td>\n",
              "      <td>Port In</td>\n",
              "    </tr>\n",
              "    <tr>\n",
              "      <th>3</th>\n",
              "      <td>Vessel departure from first POL (Vessel name :...</td>\n",
              "      <td>Departure</td>\n",
              "    </tr>\n",
              "    <tr>\n",
              "      <th>4</th>\n",
              "      <td>Vessel arrival at final POD (Vessel name : TIA...</td>\n",
              "      <td>Arrival</td>\n",
              "    </tr>\n",
              "  </tbody>\n",
              "</table>\n",
              "</div>"
            ],
            "text/plain": [
              "                                      externalStatus    internalStatus\n",
              "0                                           PORT OUT          Port Out\n",
              "1                                        TERMINAL IN  Inbound Terminal\n",
              "2                                            PORT IN           Port In\n",
              "3  Vessel departure from first POL (Vessel name :...         Departure\n",
              "4  Vessel arrival at final POD (Vessel name : TIA...           Arrival"
            ]
          },
          "execution_count": 54,
          "metadata": {},
          "output_type": "execute_result"
        }
      ],
      "source": [
        "df.head()"
      ]
    },
    {
      "cell_type": "code",
      "execution_count": 55,
      "metadata": {},
      "outputs": [
        {
          "data": {
            "text/plain": [
              "1114"
            ]
          },
          "execution_count": 55,
          "metadata": {},
          "output_type": "execute_result"
        }
      ],
      "source": [
        "df.duplicated().sum()"
      ]
    },
    {
      "cell_type": "code",
      "execution_count": 56,
      "metadata": {},
      "outputs": [
        {
          "name": "stdout",
          "output_type": "stream",
          "text": [
            "<class 'pandas.core.frame.DataFrame'>\n",
            "RangeIndex: 1222 entries, 0 to 1221\n",
            "Data columns (total 2 columns):\n",
            " #   Column          Non-Null Count  Dtype \n",
            "---  ------          --------------  ----- \n",
            " 0   externalStatus  1222 non-null   object\n",
            " 1   internalStatus  1222 non-null   object\n",
            "dtypes: object(2)\n",
            "memory usage: 19.2+ KB\n"
          ]
        }
      ],
      "source": [
        "df.info()"
      ]
    },
    {
      "cell_type": "code",
      "execution_count": 57,
      "metadata": {},
      "outputs": [
        {
          "data": {
            "text/plain": [
              "0       False\n",
              "1       False\n",
              "2       False\n",
              "3       False\n",
              "4       False\n",
              "        ...  \n",
              "1217     True\n",
              "1218     True\n",
              "1219     True\n",
              "1220     True\n",
              "1221     True\n",
              "Length: 1222, dtype: bool"
            ]
          },
          "execution_count": 57,
          "metadata": {},
          "output_type": "execute_result"
        }
      ],
      "source": [
        "df.duplicated()"
      ]
    },
    {
      "cell_type": "code",
      "execution_count": 59,
      "metadata": {},
      "outputs": [
        {
          "data": {
            "text/plain": [
              "externalStatus    0\n",
              "internalStatus    0\n",
              "dtype: int64"
            ]
          },
          "execution_count": 59,
          "metadata": {},
          "output_type": "execute_result"
        }
      ],
      "source": [
        "df.isna().sum()"
      ]
    },
    {
      "cell_type": "code",
      "execution_count": 60,
      "metadata": {},
      "outputs": [],
      "source": [
        "val=df.drop_duplicates(keep='last')\n",
        "df.drop_duplicates(keep='first',inplace=True)"
      ]
    },
    {
      "cell_type": "code",
      "execution_count": 61,
      "metadata": {
        "colab": {
          "base_uri": "https://localhost:8080/"
        },
        "id": "hDhwEPWoSbLD",
        "outputId": "b2c123d4-357a-4c50-bf48-059a19364b3c"
      },
      "outputs": [
        {
          "data": {
            "text/plain": [
              "internalStatus\n",
              "Loaded on Vessel            49\n",
              "Departure                   16\n",
              "Arrival                     13\n",
              "Outbound Terminal            9\n",
              "Unloaded on Vessel           6\n",
              "Empty Container Released     3\n",
              "Inbound Terminal             2\n",
              "Empty Return                 2\n",
              "Gate Out                     2\n",
              "Port Out                     1\n",
              "Port In                      1\n",
              "Gate In                      1\n",
              "On Rail                      1\n",
              "Off Rail                     1\n",
              "In-transit                   1\n",
              "Name: count, dtype: int64"
            ]
          },
          "execution_count": 61,
          "metadata": {},
          "output_type": "execute_result"
        }
      ],
      "source": [
        "df['internalStatus'].value_counts()"
      ]
    },
    {
      "cell_type": "code",
      "execution_count": 62,
      "metadata": {
        "id": "-znRAxGoSjmT"
      },
      "outputs": [],
      "source": [
        "from sklearn.preprocessing import LabelEncoder\n",
        "label_encoder = LabelEncoder()\n",
        "df['Output'] = label_encoder.fit_transform(df['internalStatus'])\n"
      ]
    },
    {
      "cell_type": "code",
      "execution_count": 63,
      "metadata": {
        "colab": {
          "base_uri": "https://localhost:8080/"
        },
        "id": "9qi9UTYPS2UE",
        "outputId": "8ada8de0-5f72-4709-d104-763660213ec6"
      },
      "outputs": [
        {
          "name": "stdout",
          "output_type": "stream",
          "text": [
            "Requirement already satisfied: tensorflow in /run/media/suraj/1366967307359354/project/settly/sett/lib64/python3.12/site-packages (2.16.1)\n",
            "Requirement already satisfied: keras in /run/media/suraj/1366967307359354/project/settly/sett/lib/python3.12/site-packages (3.1.1)\n",
            "Requirement already satisfied: absl-py>=1.0.0 in /run/media/suraj/1366967307359354/project/settly/sett/lib/python3.12/site-packages (from tensorflow) (2.1.0)\n",
            "Requirement already satisfied: astunparse>=1.6.0 in /run/media/suraj/1366967307359354/project/settly/sett/lib/python3.12/site-packages (from tensorflow) (1.6.3)\n",
            "Requirement already satisfied: flatbuffers>=23.5.26 in /run/media/suraj/1366967307359354/project/settly/sett/lib/python3.12/site-packages (from tensorflow) (24.3.25)\n",
            "Requirement already satisfied: gast!=0.5.0,!=0.5.1,!=0.5.2,>=0.2.1 in /run/media/suraj/1366967307359354/project/settly/sett/lib/python3.12/site-packages (from tensorflow) (0.5.4)\n",
            "Requirement already satisfied: google-pasta>=0.1.1 in /run/media/suraj/1366967307359354/project/settly/sett/lib/python3.12/site-packages (from tensorflow) (0.2.0)\n",
            "Requirement already satisfied: h5py>=3.10.0 in /run/media/suraj/1366967307359354/project/settly/sett/lib64/python3.12/site-packages (from tensorflow) (3.10.0)\n",
            "Requirement already satisfied: libclang>=13.0.0 in /run/media/suraj/1366967307359354/project/settly/sett/lib/python3.12/site-packages (from tensorflow) (18.1.1)\n",
            "Requirement already satisfied: ml-dtypes~=0.3.1 in /run/media/suraj/1366967307359354/project/settly/sett/lib64/python3.12/site-packages (from tensorflow) (0.3.2)\n",
            "Requirement already satisfied: opt-einsum>=2.3.2 in /run/media/suraj/1366967307359354/project/settly/sett/lib/python3.12/site-packages (from tensorflow) (3.3.0)\n",
            "Requirement already satisfied: packaging in /run/media/suraj/1366967307359354/project/settly/sett/lib/python3.12/site-packages (from tensorflow) (24.0)\n",
            "Requirement already satisfied: protobuf!=4.21.0,!=4.21.1,!=4.21.2,!=4.21.3,!=4.21.4,!=4.21.5,<5.0.0dev,>=3.20.3 in /run/media/suraj/1366967307359354/project/settly/sett/lib64/python3.12/site-packages (from tensorflow) (4.25.3)\n",
            "Requirement already satisfied: requests<3,>=2.21.0 in /run/media/suraj/1366967307359354/project/settly/sett/lib/python3.12/site-packages (from tensorflow) (2.31.0)\n",
            "Requirement already satisfied: setuptools in /run/media/suraj/1366967307359354/project/settly/sett/lib/python3.12/site-packages (from tensorflow) (69.2.0)\n",
            "Requirement already satisfied: six>=1.12.0 in /run/media/suraj/1366967307359354/project/settly/sett/lib/python3.12/site-packages (from tensorflow) (1.16.0)\n",
            "Requirement already satisfied: termcolor>=1.1.0 in /run/media/suraj/1366967307359354/project/settly/sett/lib/python3.12/site-packages (from tensorflow) (2.4.0)\n",
            "Requirement already satisfied: typing-extensions>=3.6.6 in /run/media/suraj/1366967307359354/project/settly/sett/lib/python3.12/site-packages (from tensorflow) (4.11.0)\n",
            "Requirement already satisfied: wrapt>=1.11.0 in /run/media/suraj/1366967307359354/project/settly/sett/lib64/python3.12/site-packages (from tensorflow) (1.16.0)\n",
            "Requirement already satisfied: grpcio<2.0,>=1.24.3 in /run/media/suraj/1366967307359354/project/settly/sett/lib64/python3.12/site-packages (from tensorflow) (1.62.1)\n",
            "Requirement already satisfied: tensorboard<2.17,>=2.16 in /run/media/suraj/1366967307359354/project/settly/sett/lib/python3.12/site-packages (from tensorflow) (2.16.2)\n",
            "Requirement already satisfied: numpy<2.0.0,>=1.26.0 in /run/media/suraj/1366967307359354/project/settly/sett/lib64/python3.12/site-packages (from tensorflow) (1.26.4)\n",
            "Requirement already satisfied: rich in /run/media/suraj/1366967307359354/project/settly/sett/lib/python3.12/site-packages (from keras) (13.7.1)\n",
            "Requirement already satisfied: namex in /run/media/suraj/1366967307359354/project/settly/sett/lib/python3.12/site-packages (from keras) (0.0.7)\n",
            "Requirement already satisfied: optree in /run/media/suraj/1366967307359354/project/settly/sett/lib64/python3.12/site-packages (from keras) (0.11.0)\n",
            "Requirement already satisfied: wheel<1.0,>=0.23.0 in /run/media/suraj/1366967307359354/project/settly/sett/lib/python3.12/site-packages (from astunparse>=1.6.0->tensorflow) (0.43.0)\n",
            "Requirement already satisfied: charset-normalizer<4,>=2 in /run/media/suraj/1366967307359354/project/settly/sett/lib64/python3.12/site-packages (from requests<3,>=2.21.0->tensorflow) (3.3.2)\n",
            "Requirement already satisfied: idna<4,>=2.5 in /run/media/suraj/1366967307359354/project/settly/sett/lib/python3.12/site-packages (from requests<3,>=2.21.0->tensorflow) (3.6)\n",
            "Requirement already satisfied: urllib3<3,>=1.21.1 in /run/media/suraj/1366967307359354/project/settly/sett/lib/python3.12/site-packages (from requests<3,>=2.21.0->tensorflow) (2.2.1)\n",
            "Requirement already satisfied: certifi>=2017.4.17 in /run/media/suraj/1366967307359354/project/settly/sett/lib/python3.12/site-packages (from requests<3,>=2.21.0->tensorflow) (2024.2.2)\n",
            "Requirement already satisfied: markdown>=2.6.8 in /run/media/suraj/1366967307359354/project/settly/sett/lib/python3.12/site-packages (from tensorboard<2.17,>=2.16->tensorflow) (3.6)\n",
            "Requirement already satisfied: tensorboard-data-server<0.8.0,>=0.7.0 in /run/media/suraj/1366967307359354/project/settly/sett/lib/python3.12/site-packages (from tensorboard<2.17,>=2.16->tensorflow) (0.7.2)\n",
            "Requirement already satisfied: werkzeug>=1.0.1 in /run/media/suraj/1366967307359354/project/settly/sett/lib/python3.12/site-packages (from tensorboard<2.17,>=2.16->tensorflow) (3.0.2)\n",
            "Requirement already satisfied: markdown-it-py>=2.2.0 in /run/media/suraj/1366967307359354/project/settly/sett/lib/python3.12/site-packages (from rich->keras) (3.0.0)\n",
            "Requirement already satisfied: pygments<3.0.0,>=2.13.0 in /run/media/suraj/1366967307359354/project/settly/sett/lib/python3.12/site-packages (from rich->keras) (2.17.2)\n",
            "Requirement already satisfied: mdurl~=0.1 in /run/media/suraj/1366967307359354/project/settly/sett/lib/python3.12/site-packages (from markdown-it-py>=2.2.0->rich->keras) (0.1.2)\n",
            "Requirement already satisfied: MarkupSafe>=2.1.1 in /run/media/suraj/1366967307359354/project/settly/sett/lib64/python3.12/site-packages (from werkzeug>=1.0.1->tensorboard<2.17,>=2.16->tensorflow) (2.1.5)\n"
          ]
        }
      ],
      "source": [
        "!pip install tensorflow keras"
      ]
    },
    {
      "cell_type": "code",
      "execution_count": 64,
      "metadata": {
        "id": "jRIEXTcNSmPc"
      },
      "outputs": [],
      "source": [
        "from tensorflow.keras.preprocessing.text import Tokenizer\n",
        "from tensorflow.keras.preprocessing.sequence import pad_sequences\n",
        "\n",
        "\n",
        "\n",
        "# Tokenize and pad text data\n",
        "tokenizer = Tokenizer()\n",
        "tokenizer.fit_on_texts(df['externalStatus'])\n",
        "X = tokenizer.texts_to_sequences(df['externalStatus'])\n",
        "X = pad_sequences(X, maxlen=130)"
      ]
    },
    {
      "cell_type": "code",
      "execution_count": null,
      "metadata": {
        "id": "LzRXdgQgaGZm"
      },
      "outputs": [],
      "source": []
    },
    {
      "cell_type": "code",
      "execution_count": 65,
      "metadata": {
        "id": "QHWUB9SrS05o"
      },
      "outputs": [],
      "source": [
        "# from sklearn.model_selection import train_test_split\n",
        "# X_train, X_test, y_train, y_test = train_test_split(X, df['Output'], test_size=0.2, random_state=21)\n"
      ]
    },
    {
      "cell_type": "code",
      "execution_count": 68,
      "metadata": {
        "colab": {
          "base_uri": "https://localhost:8080/"
        },
        "id": "55yfk8poTMAQ",
        "outputId": "86961d22-3495-4a53-c412-f581f8301550"
      },
      "outputs": [
        {
          "name": "stdout",
          "output_type": "stream",
          "text": [
            "Epoch 1/40\n",
            "\u001b[1m14/14\u001b[0m \u001b[32m━━━━━━━━━━━━━━━━━━━━\u001b[0m\u001b[37m\u001b[0m \u001b[1m3s\u001b[0m 38ms/step - accuracy: 0.3202 - loss: 2.5867\n",
            "Epoch 2/40\n",
            "\u001b[1m14/14\u001b[0m \u001b[32m━━━━━━━━━━━━━━━━━━━━\u001b[0m\u001b[37m\u001b[0m \u001b[1m1s\u001b[0m 38ms/step - accuracy: 0.4352 - loss: 2.0302\n",
            "Epoch 3/40\n",
            "\u001b[1m14/14\u001b[0m \u001b[32m━━━━━━━━━━━━━━━━━━━━\u001b[0m\u001b[37m\u001b[0m \u001b[1m1s\u001b[0m 38ms/step - accuracy: 0.4686 - loss: 1.8514\n",
            "Epoch 4/40\n",
            "\u001b[1m14/14\u001b[0m \u001b[32m━━━━━━━━━━━━━━━━━━━━\u001b[0m\u001b[37m\u001b[0m \u001b[1m1s\u001b[0m 38ms/step - accuracy: 0.4216 - loss: 1.9061\n",
            "Epoch 5/40\n",
            "\u001b[1m14/14\u001b[0m \u001b[32m━━━━━━━━━━━━━━━━━━━━\u001b[0m\u001b[37m\u001b[0m \u001b[1m1s\u001b[0m 38ms/step - accuracy: 0.4400 - loss: 1.9818\n",
            "Epoch 6/40\n",
            "\u001b[1m14/14\u001b[0m \u001b[32m━━━━━━━━━━━━━━━━━━━━\u001b[0m\u001b[37m\u001b[0m \u001b[1m1s\u001b[0m 37ms/step - accuracy: 0.4202 - loss: 1.7554\n",
            "Epoch 7/40\n",
            "\u001b[1m14/14\u001b[0m \u001b[32m━━━━━━━━━━━━━━━━━━━━\u001b[0m\u001b[37m\u001b[0m \u001b[1m1s\u001b[0m 38ms/step - accuracy: 0.5126 - loss: 1.5873\n",
            "Epoch 8/40\n",
            "\u001b[1m14/14\u001b[0m \u001b[32m━━━━━━━━━━━━━━━━━━━━\u001b[0m\u001b[37m\u001b[0m \u001b[1m1s\u001b[0m 38ms/step - accuracy: 0.6220 - loss: 1.2311\n",
            "Epoch 9/40\n",
            "\u001b[1m14/14\u001b[0m \u001b[32m━━━━━━━━━━━━━━━━━━━━\u001b[0m\u001b[37m\u001b[0m \u001b[1m1s\u001b[0m 37ms/step - accuracy: 0.6476 - loss: 1.3413\n",
            "Epoch 10/40\n",
            "\u001b[1m14/14\u001b[0m \u001b[32m━━━━━━━━━━━━━━━━━━━━\u001b[0m\u001b[37m\u001b[0m \u001b[1m1s\u001b[0m 38ms/step - accuracy: 0.7196 - loss: 1.2569\n",
            "Epoch 11/40\n",
            "\u001b[1m14/14\u001b[0m \u001b[32m━━━━━━━━━━━━━━━━━━━━\u001b[0m\u001b[37m\u001b[0m \u001b[1m1s\u001b[0m 38ms/step - accuracy: 0.6830 - loss: 1.1752\n",
            "Epoch 12/40\n",
            "\u001b[1m14/14\u001b[0m \u001b[32m━━━━━━━━━━━━━━━━━━━━\u001b[0m\u001b[37m\u001b[0m \u001b[1m1s\u001b[0m 37ms/step - accuracy: 0.7360 - loss: 0.9772\n",
            "Epoch 13/40\n",
            "\u001b[1m14/14\u001b[0m \u001b[32m━━━━━━━━━━━━━━━━━━━━\u001b[0m\u001b[37m\u001b[0m \u001b[1m1s\u001b[0m 37ms/step - accuracy: 0.8222 - loss: 0.8834\n",
            "Epoch 14/40\n",
            "\u001b[1m14/14\u001b[0m \u001b[32m━━━━━━━━━━━━━━━━━━━━\u001b[0m\u001b[37m\u001b[0m \u001b[1m1s\u001b[0m 38ms/step - accuracy: 0.7760 - loss: 0.9906\n",
            "Epoch 15/40\n",
            "\u001b[1m14/14\u001b[0m \u001b[32m━━━━━━━━━━━━━━━━━━━━\u001b[0m\u001b[37m\u001b[0m \u001b[1m1s\u001b[0m 37ms/step - accuracy: 0.8464 - loss: 0.8536\n",
            "Epoch 16/40\n",
            "\u001b[1m14/14\u001b[0m \u001b[32m━━━━━━━━━━━━━━━━━━━━\u001b[0m\u001b[37m\u001b[0m \u001b[1m1s\u001b[0m 38ms/step - accuracy: 0.8679 - loss: 0.6343\n",
            "Epoch 17/40\n",
            "\u001b[1m14/14\u001b[0m \u001b[32m━━━━━━━━━━━━━━━━━━━━\u001b[0m\u001b[37m\u001b[0m \u001b[1m1s\u001b[0m 40ms/step - accuracy: 0.8788 - loss: 0.5428\n",
            "Epoch 18/40\n",
            "\u001b[1m14/14\u001b[0m \u001b[32m━━━━━━━━━━━━━━━━━━━━\u001b[0m\u001b[37m\u001b[0m \u001b[1m1s\u001b[0m 38ms/step - accuracy: 0.8872 - loss: 0.6255\n",
            "Epoch 19/40\n",
            "\u001b[1m14/14\u001b[0m \u001b[32m━━━━━━━━━━━━━━━━━━━━\u001b[0m\u001b[37m\u001b[0m \u001b[1m1s\u001b[0m 37ms/step - accuracy: 0.8653 - loss: 0.6010\n",
            "Epoch 20/40\n",
            "\u001b[1m14/14\u001b[0m \u001b[32m━━━━━━━━━━━━━━━━━━━━\u001b[0m\u001b[37m\u001b[0m \u001b[1m1s\u001b[0m 38ms/step - accuracy: 0.8810 - loss: 0.5245\n",
            "Epoch 21/40\n",
            "\u001b[1m14/14\u001b[0m \u001b[32m━━━━━━━━━━━━━━━━━━━━\u001b[0m\u001b[37m\u001b[0m \u001b[1m1s\u001b[0m 38ms/step - accuracy: 0.8864 - loss: 0.5453\n",
            "Epoch 22/40\n",
            "\u001b[1m14/14\u001b[0m \u001b[32m━━━━━━━━━━━━━━━━━━━━\u001b[0m\u001b[37m\u001b[0m \u001b[1m1s\u001b[0m 37ms/step - accuracy: 0.8502 - loss: 0.5664\n",
            "Epoch 23/40\n",
            "\u001b[1m14/14\u001b[0m \u001b[32m━━━━━━━━━━━━━━━━━━━━\u001b[0m\u001b[37m\u001b[0m \u001b[1m1s\u001b[0m 38ms/step - accuracy: 0.9345 - loss: 0.3730\n",
            "Epoch 24/40\n",
            "\u001b[1m14/14\u001b[0m \u001b[32m━━━━━━━━━━━━━━━━━━━━\u001b[0m\u001b[37m\u001b[0m \u001b[1m1s\u001b[0m 38ms/step - accuracy: 0.8990 - loss: 0.5080\n",
            "Epoch 25/40\n",
            "\u001b[1m14/14\u001b[0m \u001b[32m━━━━━━━━━━━━━━━━━━━━\u001b[0m\u001b[37m\u001b[0m \u001b[1m1s\u001b[0m 37ms/step - accuracy: 0.9039 - loss: 0.4021\n",
            "Epoch 26/40\n",
            "\u001b[1m14/14\u001b[0m \u001b[32m━━━━━━━━━━━━━━━━━━━━\u001b[0m\u001b[37m\u001b[0m \u001b[1m1s\u001b[0m 37ms/step - accuracy: 0.9133 - loss: 0.3261\n",
            "Epoch 27/40\n",
            "\u001b[1m14/14\u001b[0m \u001b[32m━━━━━━━━━━━━━━━━━━━━\u001b[0m\u001b[37m\u001b[0m \u001b[1m1s\u001b[0m 37ms/step - accuracy: 0.8812 - loss: 0.4122\n",
            "Epoch 28/40\n",
            "\u001b[1m14/14\u001b[0m \u001b[32m━━━━━━━━━━━━━━━━━━━━\u001b[0m\u001b[37m\u001b[0m \u001b[1m1s\u001b[0m 39ms/step - accuracy: 0.8856 - loss: 0.4061\n",
            "Epoch 29/40\n",
            "\u001b[1m14/14\u001b[0m \u001b[32m━━━━━━━━━━━━━━━━━━━━\u001b[0m\u001b[37m\u001b[0m \u001b[1m1s\u001b[0m 38ms/step - accuracy: 0.9055 - loss: 0.3594\n",
            "Epoch 30/40\n",
            "\u001b[1m14/14\u001b[0m \u001b[32m━━━━━━━━━━━━━━━━━━━━\u001b[0m\u001b[37m\u001b[0m \u001b[1m1s\u001b[0m 37ms/step - accuracy: 0.9266 - loss: 0.2741\n",
            "Epoch 31/40\n",
            "\u001b[1m14/14\u001b[0m \u001b[32m━━━━━━━━━━━━━━━━━━━━\u001b[0m\u001b[37m\u001b[0m \u001b[1m1s\u001b[0m 38ms/step - accuracy: 0.8946 - loss: 0.3681\n",
            "Epoch 32/40\n",
            "\u001b[1m14/14\u001b[0m \u001b[32m━━━━━━━━━━━━━━━━━━━━\u001b[0m\u001b[37m\u001b[0m \u001b[1m1s\u001b[0m 41ms/step - accuracy: 0.9529 - loss: 0.2056\n",
            "Epoch 33/40\n",
            "\u001b[1m14/14\u001b[0m \u001b[32m━━━━━━━━━━━━━━━━━━━━\u001b[0m\u001b[37m\u001b[0m \u001b[1m1s\u001b[0m 39ms/step - accuracy: 0.9003 - loss: 0.3379\n",
            "Epoch 34/40\n",
            "\u001b[1m14/14\u001b[0m \u001b[32m━━━━━━━━━━━━━━━━━━━━\u001b[0m\u001b[37m\u001b[0m \u001b[1m1s\u001b[0m 38ms/step - accuracy: 0.9190 - loss: 0.2853\n",
            "Epoch 35/40\n",
            "\u001b[1m14/14\u001b[0m \u001b[32m━━━━━━━━━━━━━━━━━━━━\u001b[0m\u001b[37m\u001b[0m \u001b[1m1s\u001b[0m 38ms/step - accuracy: 0.8944 - loss: 0.3513\n",
            "Epoch 36/40\n",
            "\u001b[1m14/14\u001b[0m \u001b[32m━━━━━━━━━━━━━━━━━━━━\u001b[0m\u001b[37m\u001b[0m \u001b[1m1s\u001b[0m 38ms/step - accuracy: 0.9097 - loss: 0.3049\n",
            "Epoch 37/40\n",
            "\u001b[1m14/14\u001b[0m \u001b[32m━━━━━━━━━━━━━━━━━━━━\u001b[0m\u001b[37m\u001b[0m \u001b[1m1s\u001b[0m 38ms/step - accuracy: 0.8931 - loss: 0.3058\n",
            "Epoch 38/40\n",
            "\u001b[1m14/14\u001b[0m \u001b[32m━━━━━━━━━━━━━━━━━━━━\u001b[0m\u001b[37m\u001b[0m \u001b[1m1s\u001b[0m 39ms/step - accuracy: 0.9575 - loss: 0.1894\n",
            "Epoch 39/40\n",
            "\u001b[1m14/14\u001b[0m \u001b[32m━━━━━━━━━━━━━━━━━━━━\u001b[0m\u001b[37m\u001b[0m \u001b[1m1s\u001b[0m 41ms/step - accuracy: 0.9274 - loss: 0.2501\n",
            "Epoch 40/40\n",
            "\u001b[1m14/14\u001b[0m \u001b[32m━━━━━━━━━━━━━━━━━━━━\u001b[0m\u001b[37m\u001b[0m \u001b[1m1s\u001b[0m 37ms/step - accuracy: 0.9531 - loss: 0.1799\n"
          ]
        }
      ],
      "source": [
        "import tensorflow as tf\n",
        "from keras.models import Sequential\n",
        "from keras.layers import Embedding, LSTM, Dense,Dropout\n",
        "from keras.callbacks import EarlyStopping\n",
        "\n",
        "# Define EarlyStopping callback\n",
        "early_stopping = EarlyStopping(monitor='loss', patience=3, restore_best_weights=True)\n",
        "\n",
        "# Define the model architecture\n",
        "model = Sequential()\n",
        "model.add(Embedding(input_dim=500, output_dim=130, ))\n",
        "model.add(LSTM(64,return_sequences=True))\n",
        "# model.add(Dropout(.4))\n",
        "# model.add(LSTM(128,return_sequences=True))\n",
        "\n",
        "# model.add(LSTM(64,return_sequences=True))\n",
        "\n",
        "model.add(LSTM(32))\n",
        "\n",
        "model.add(Dense(15, activation='softmax'))  # Adjust NUM_CLASSES based on the number of unique labels\n",
        "\n",
        "# Compile the model\n",
        "model.compile(loss='sparse_categorical_crossentropy', optimizer='adam', metrics=['accuracy'])\n",
        "\n",
        "# Train the model\n",
        "history = model.fit(X, df['Output'], batch_size=8, epochs=40,callbacks=[early_stopping])\n",
        "\n"
      ]
    },
    {
      "cell_type": "code",
      "execution_count": 82,
      "metadata": {
        "id": "8hGIvUFCTZRl"
      },
      "outputs": [],
      "source": [
        "\n",
        "def predict_internal_status(model, tokenizer, user_input):\n",
        "    # Tokenize the user input\n",
        "    import numpy as np\n",
        "    user_input_sequence = tokenizer.texts_to_sequences([user_input])\n",
        "    # Pad sequences to the same length as training data\n",
        "    user_input_sequence_padded = pad_sequences(user_input_sequence, maxlen=130)\n",
        "\n",
        "    # Make predictions\n",
        "    predictions = model.predict(user_input_sequence_padded)\n",
        "\n",
        "    # Get the predicted class (internal status)\n",
        "    predicted_class = np.argmax(predictions)\n",
        "    predicted_class1 = label_encoder.inverse_transform([predicted_class])\n",
        "\n",
        "    return predicted_class1[0],np.max(predictions)\n",
        "    # return predicted_class"
      ]
    },
    {
      "cell_type": "code",
      "execution_count": 83,
      "metadata": {
        "colab": {
          "base_uri": "https://localhost:8080/",
          "height": 52
        },
        "id": "wG_X7_LlZ9Sr",
        "outputId": "bf548695-5560-4c67-9c12-d990d1aa6e2a"
      },
      "outputs": [
        {
          "name": "stdout",
          "output_type": "stream",
          "text": [
            "\u001b[1m1/1\u001b[0m \u001b[32m━━━━━━━━━━━━━━━━━━━━\u001b[0m\u001b[37m\u001b[0m \u001b[1m0s\u001b[0m 22ms/step\n"
          ]
        },
        {
          "data": {
            "text/plain": [
              "('Departure', 0.37551752)"
            ]
          },
          "execution_count": 83,
          "metadata": {},
          "output_type": "execute_result"
        }
      ],
      "source": [
        "predict_internal_status(model,tokenizer,' shiped')"
      ]
    },
    {
      "cell_type": "code",
      "execution_count": null,
      "metadata": {
        "colab": {
          "base_uri": "https://localhost:8080/",
          "height": 472
        },
        "id": "Jsb7EhWCavHm",
        "outputId": "0f327659-0e64-4c15-f30e-41d7238474c4"
      },
      "outputs": [
        {
          "data": {
            "image/png": "[encoded data removed]",
            "text/plain": [
              "<Figure size 640x480 with 1 Axes>"
            ]
          },
          "metadata": {},
          "output_type": "display_data"
        }
      ],
      "source": [
        "import matplotlib.pyplot as plt\n",
        "\n",
        "def plot_loss(history):\n",
        "    plt.plot(history.history['loss'], label='Training Loss')\n",
        "    plt.plot(history.history['val_loss'], label='Validation Loss')\n",
        "    plt.title('Model Loss')\n",
        "    plt.xlabel('Epoch')\n",
        "    plt.ylabel('Loss')\n",
        "    plt.legend()\n",
        "    plt.show()\n",
        "\n",
        "# Assuming `history` is the variable containing the training history of the model\n",
        "plot_loss(history)"
      ]
    },
    {
      "cell_type": "code",
      "execution_count": null,
      "metadata": {
        "colab": {
          "base_uri": "https://localhost:8080/",
          "height": 472
        },
        "id": "_EI7Ko9Ub5Tc",
        "outputId": "f03a50a6-a9ad-47cd-a638-3abe93831363"
      },
      "outputs": [
        {
          "data": {
            "image/png": "[encoded data removed]",
            "text/plain": [
              "<Figure size 640x480 with 1 Axes>"
            ]
          },
          "metadata": {},
          "output_type": "display_data"
        }
      ],
      "source": [
        "def plot_accuracy(history):\n",
        "    plt.plot(history.history['accuracy'], label='Training Loss')\n",
        "    plt.plot(history.history['val_accuracy'], label='Validation Loss')\n",
        "    plt.title('Model Loss')\n",
        "    plt.xlabel('Epoch')\n",
        "    plt.ylabel('Loss')\n",
        "    plt.legend()\n",
        "    plt.show()\n",
        "\n",
        "# Assuming `history` is the variable containing the training history of the model\n",
        "plot_accuracy(history)"
      ]
    },
    {
      "cell_type": "code",
      "execution_count": 97,
      "metadata": {
        "colab": {
          "base_uri": "https://localhost:8080/"
        },
        "id": "A80rgmBQsW9F",
        "outputId": "fce99112-7dc0-4a32-c6fc-e56b3c242fe5"
      },
      "outputs": [],
      "source": [
        "model.save(\"model.keras\")"
      ]
    },
    {
      "cell_type": "code",
      "execution_count": 98,
      "metadata": {
        "id": "a6T8oXsVsgRf"
      },
      "outputs": [],
      "source": [
        "import pickle\n",
        "\n",
        "with open('tokenizer.pickle', 'wb') as handle:\n",
        "    pickle.dump(tokenizer, handle, protocol=pickle.HIGHEST_PROTOCOL)\n"
      ]
    },
    {
      "cell_type": "code",
      "execution_count": 99,
      "metadata": {
        "id": "PozsFdnOs-ln"
      },
      "outputs": [],
      "source": [
        "with open('label_encoder.pkl', 'wb') as f:\n",
        "    pickle.dump(label_encoder, f)"
      ]
    },
    {
      "cell_type": "code",
      "execution_count": null,
      "metadata": {
        "id": "iecQOJ5FtPlQ"
      },
      "outputs": [],
      "source": []
    }
  ],
  "metadata": {
    "accelerator": "GPU",
    "colab": {
      "authorship_tag": "ABX9TyOGUTDuAJTg/s1QOTAN0lOx",
      "gpuType": "T4",
      "provenance": []
    },
    "kernelspec": {
      "display_name": "Python 3",
      "name": "python3"
    },
    "language_info": {
      "codemirror_mode": {
        "name": "ipython",
        "version": 3
      },
      "file_extension": ".py",
      "mimetype": "text/x-python",
      "name": "python",
      "nbconvert_exporter": "python",
      "pygments_lexer": "ipython3",
      "version": "3.12.2"
    }
  },
  "nbformat": 4,
  "nbformat_minor": 0
}
